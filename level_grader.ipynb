{
 "cells": [
  {
   "cell_type": "code",
   "execution_count": 3,
   "metadata": {},
   "outputs": [],
   "source": [
    "import numpy as np\n",
    "import spacy\n",
    "from spacy_syllables import SpacySyllables"
   ]
  },
  {
   "cell_type": "code",
   "execution_count": 8,
   "metadata": {},
   "outputs": [],
   "source": [
    "def flesch_kincaid(text):\n",
    "    # Instantiate model and add syllables pipeline\n",
    "    nlp = spacy.load('en_core_web_lg')\n",
    "    syllables = SpacySyllables(nlp)\n",
    "    nlp.add_pipe('syllables', after='tagger')\n",
    "    # Instantiate doc object and generate lists and counts of needed variables\n",
    "    doc = nlp(text)\n",
    "    sentences = [sent for sent in doc.sents]\n",
    "    words = [token for token in doc if token.is_punct == False]\n",
    "    syllables = [token._.syllables_count for token in doc \\\n",
    "                 if token._.syllables is not None]\n",
    "    sent_count, word_count = len(sentences), len(words)\n",
    "    syll_count = sum(syllables)\n",
    "    # Find average words per sentence (WPS) and avg syllables per word (SPW)\n",
    "    wps = word_count/sent_count\n",
    "    spw = syll_count/word_count\n",
    "    # Plug into the equation\n",
    "    level = 0.39*wps + 11.8*spw - 15.59\n",
    "    \n",
    "    level_dict = {\n",
    "        0: 'first',\n",
    "        1: 'first',\n",
    "        2: 'second',\n",
    "        3: 'third',\n",
    "        4: 'fourth',\n",
    "        5: 'fifth',\n",
    "        6: 'sixth',\n",
    "        7: 'seventh',\n",
    "        8: 'eighth',\n",
    "        9: 'nineth',\n",
    "        10: 'tenth',\n",
    "        11: 'eleventh',\n",
    "        12: 'twelfth',\n",
    "        13: 'university freshman',\n",
    "        14: 'university sophomore',\n",
    "        15: 'university junior',\n",
    "        16: 'university senior',\n",
    "        17: 'post-graduate'\n",
    "    }\n",
    "    \n",
    "    return f\"{level_dict[round(level)]} grade level\""
   ]
  },
  {
   "cell_type": "code",
   "execution_count": 9,
   "metadata": {},
   "outputs": [
    {
     "data": {
      "text/plain": [
       "'first grade level'"
      ]
     },
     "execution_count": 9,
     "metadata": {},
     "output_type": "execute_result"
    }
   ],
   "source": [
    "sample_text = \"Hi, my name is Harry Potter. I am a wizard, but I did \" + \\\n",
    "    \"not know I was a wizard until I was ten years old. I have a \" + \\\n",
    "    \"white owl named Hedwig. My two best friends are Ron and Hermione.\" + \\\n",
    "    \" We go on lots of adventures. I met them my first year at \" + \\\n",
    "    \"Hogwarts.  We rode on the same train carriage. Hermione \" + \\\n",
    "    \"fixed my glasses with her wand, and Ron ate chocolate frogs\" + \\\n",
    "    \"with me.\"\n",
    "\n",
    "flesch_kincaid(sample_text)"
   ]
  },
  {
   "cell_type": "code",
   "execution_count": 10,
   "metadata": {},
   "outputs": [
    {
     "data": {
      "text/plain": [
       "'university senior grade level'"
      ]
     },
     "execution_count": 10,
     "metadata": {},
     "output_type": "execute_result"
    }
   ],
   "source": [
    "sample_text_2 = \"One objective of the degradation of foodstuffs is\" + \\\n",
    "\" to convert the energy contained in chemical bonds into the \" + \\\n",
    "\"energy-rich compound adenosine triphosphate (ATP), which captures the\" + \\\n",
    "\"chemical energy obtained from the breakdown of food molecules and\" + \\\n",
    "\" releases it to fuel other cellular processes. In eukaryotic cells \" + \\\n",
    "\"(that is, any cells or organisms that possess a clearly defined \" + \\\n",
    "\"nucleus and membrane-bound organelles) the enzymes that catalyze\" + \\\n",
    "\" the individual steps involved in respiration and energy conservation\" + \\\n",
    "\" are located in highly organized rod-shaped compartments called\" + \\\n",
    "\" mitochondria. In microorganisms the enzymes occur as components of\" + \\\n",
    "\" the cell membrane. A liver cell has about 1,000 mitochondria; large \" + \\\n",
    "\"egg cells of some vertebrates have up to 200,000.\"\n",
    "\n",
    "flesch_kincaid(sample_text_2)"
   ]
  },
  {
   "cell_type": "code",
   "execution_count": 15,
   "metadata": {},
   "outputs": [],
   "source": [
    "n = open(\"first_book.txt\", \"r\")\n",
    "first_hp_book = n.read()"
   ]
  },
  {
   "cell_type": "code",
   "execution_count": 19,
   "metadata": {},
   "outputs": [
    {
     "data": {
      "text/plain": [
       "'second grade level'"
      ]
     },
     "execution_count": 19,
     "metadata": {},
     "output_type": "execute_result"
    }
   ],
   "source": [
    "flesch_kincaid(first_hp_book[:round(len(first_hp_book)/4)])"
   ]
  },
  {
   "cell_type": "code",
   "execution_count": 20,
   "metadata": {},
   "outputs": [
    {
     "data": {
      "text/plain": [
       "'second grade level'"
      ]
     },
     "execution_count": 20,
     "metadata": {},
     "output_type": "execute_result"
    }
   ],
   "source": [
    "flesch_kincaid(first_hp_book[round(len(first_hp_book)/4):round(2*len(first_hp_book)/4)])"
   ]
  },
  {
   "cell_type": "code",
   "execution_count": 21,
   "metadata": {},
   "outputs": [
    {
     "data": {
      "text/plain": [
       "'second grade level'"
      ]
     },
     "execution_count": 21,
     "metadata": {},
     "output_type": "execute_result"
    }
   ],
   "source": [
    "flesch_kincaid(first_hp_book[2*round(len(first_hp_book)/4):3*round(len(first_hp_book)/4)])"
   ]
  },
  {
   "cell_type": "code",
   "execution_count": 22,
   "metadata": {},
   "outputs": [
    {
     "data": {
      "text/plain": [
       "'first grade level'"
      ]
     },
     "execution_count": 22,
     "metadata": {},
     "output_type": "execute_result"
    }
   ],
   "source": [
    "flesch_kincaid(first_hp_book[3*round(len(first_hp_book)/4):])"
   ]
  },
  {
   "cell_type": "code",
   "execution_count": 16,
   "metadata": {},
   "outputs": [
    {
     "data": {
      "text/plain": [
       "471988"
      ]
     },
     "execution_count": 16,
     "metadata": {},
     "output_type": "execute_result"
    }
   ],
   "source": [
    "len(first_hp_book)"
   ]
  },
  {
   "cell_type": "code",
   "execution_count": null,
   "metadata": {},
   "outputs": [],
   "source": []
  }
 ],
 "metadata": {
  "kernelspec": {
   "display_name": "Python 3",
   "language": "python",
   "name": "python3"
  },
  "language_info": {
   "codemirror_mode": {
    "name": "ipython",
    "version": 3
   },
   "file_extension": ".py",
   "mimetype": "text/x-python",
   "name": "python",
   "nbconvert_exporter": "python",
   "pygments_lexer": "ipython3",
   "version": "3.8.3"
  }
 },
 "nbformat": 4,
 "nbformat_minor": 4
}
